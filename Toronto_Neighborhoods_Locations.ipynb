{
 "cells": [
  {
   "cell_type": "markdown",
   "metadata": {},
   "source": [
    "# Toronto Neighborhoods with Location Data - Pythoon Project\n",
    "\n",
    "Created by: Nurul Alam"
   ]
  },
  {
   "cell_type": "code",
   "execution_count": null,
   "metadata": {},
   "outputs": [],
   "source": [
    "# Import pandas library\n",
    "import pandas as pd"
   ]
  },
  {
   "cell_type": "code",
   "execution_count": null,
   "metadata": {},
   "outputs": [],
   "source": [
    "# Load Toronto neighborhoods wikipedia page onto pandas dataframe\n",
    "Toronto_df = pd.read_html(\"https://en.wikipedia.org/wiki/List_of_postal_codes_of_Canada:_M\")"
   ]
  },
  {
   "cell_type": "code",
   "execution_count": null,
   "metadata": {},
   "outputs": [],
   "source": [
    "# Load table containing the Postal Code, Borough and Neighborhood data\n",
    "# Drop postal codes that do not have any Neigborhood assigned, i.e. the ones with the value of 'Not Assigned' \n",
    "# Remove blank space from 'Postal Code' so that it reads 'PostalCode'\n",
    "\n",
    "Toronto_df = Toronto_df[0]\n",
    "Toronto_df = Toronto_df[Toronto_df.Borough != 'Not assigned']\n",
    "Toronto_df.rename(columns = {'Postal Code' : 'PostalCode'}, inplace = True)\n",
    "Toronto_df"
   ]
  },
  {
   "cell_type": "code",
   "execution_count": null,
   "metadata": {},
   "outputs": [],
   "source": [
    "# Display the number of rows contained in the data frame\n",
    "print('The dataframe has {} rows.'.format(Toronto_df.shape[0]))"
   ]
  },
  {
   "cell_type": "markdown",
   "metadata": {},
   "source": [
    "<span style=\"color:blue\">\n",
    "Tried to use the Geocoder Python package. <br>\n",
    "The package does not work, the code runs endlessly without success. <br>\n",
    "Hence will use the the geographical coordinates in the CSV file.\n",
    "</span>."
   ]
  },
  {
   "cell_type": "code",
   "execution_count": null,
   "metadata": {},
   "outputs": [],
   "source": [
    "# Load Geospatial_Coordinates.csv file into a dataframe\n",
    "gsc_df = pd.read_csv('Geospatial_Coordinates.csv')\n",
    "gsc_df"
   ]
  },
  {
   "cell_type": "code",
   "execution_count": null,
   "metadata": {},
   "outputs": [],
   "source": [
    "# Join Toronto neighborhood dataframe with the Geospatial_Coordinates dataframe on PostalCode field \n",
    "# and obtain Latitude and Longitude values\n",
    "Toronto_df = Toronto_df.join(gsc_df.set_index('PostalCode'), on='PostalCode')\n",
    "Toronto_df.sort_values('PostalCode', inplace = True)\n",
    "Toronto_df.reset_index(inplace = True)\n",
    "Toronto_df"
   ]
  },
  {
   "cell_type": "code",
   "execution_count": null,
   "metadata": {},
   "outputs": [],
   "source": []
  }
 ],
 "metadata": {
  "kernelspec": {
   "display_name": "Python 3",
   "language": "python",
   "name": "python3"
  },
  "language_info": {
   "codemirror_mode": {
    "name": "ipython",
    "version": 3
   },
   "file_extension": ".py",
   "mimetype": "text/x-python",
   "name": "python",
   "nbconvert_exporter": "python",
   "pygments_lexer": "ipython3",
   "version": "3.8.3"
  }
 },
 "nbformat": 4,
 "nbformat_minor": 4
}
